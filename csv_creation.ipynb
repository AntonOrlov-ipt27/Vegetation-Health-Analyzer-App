{
 "cells": [
  {
   "cell_type": "markdown",
   "id": "17576144-9241-4d43-b340-53dba7428c27",
   "metadata": {},
   "source": [
    "Step 1: Collect raw data."
   ]
  },
  {
   "cell_type": "code",
   "execution_count": 4,
   "id": "58a3058a-62b9-40c6-b16c-fbce0b894459",
   "metadata": {},
   "outputs": [],
   "source": [
    "import urllib.request\n",
    "import datetime\n",
    "import os"
   ]
  },
  {
   "cell_type": "code",
   "execution_count": 5,
   "id": "44088a0d-04c7-49a0-9579-a78ede200d92",
   "metadata": {},
   "outputs": [],
   "source": [
    "for i in range(1,28):\n",
    "    url=\"https://www.star.nesdis.noaa.gov/smcd/emb/vci/VH/get_TS_admin.php?country=UKR&provinceID={}&year1=1981&year2=2024&type=Mean\".format(i)\n",
    "    wp = urllib.request.urlopen(url)\n",
    "    text = wp.read()\n",
    "    now = datetime.datetime.now()\n",
    "    date_and_time_time = now.strftime(\"%Y%m%d%H%M%S\")\n",
    "    out = open(os.path.join('raw', 'NOAA_ID'+str(i)+'_'+date_and_time_time+'.csv'), 'wb')\n",
    "    out.write(text)\n",
    "    out.close()"
   ]
  },
  {
   "cell_type": "markdown",
   "id": "6da61f7b-7022-4bd6-bffc-bfafbf36fd04",
   "metadata": {},
   "source": [
    "Step 2: Creat dataframe."
   ]
  },
  {
   "cell_type": "code",
   "execution_count": 6,
   "id": "b0622ea0-e009-4fe5-9e27-f52682194cd2",
   "metadata": {},
   "outputs": [],
   "source": [
    "import pandas as pd"
   ]
  },
  {
   "cell_type": "code",
   "execution_count": 7,
   "id": "2a16ce88-96cc-4e27-9950-710390ecb321",
   "metadata": {},
   "outputs": [
    {
     "name": "stdout",
     "output_type": "stream",
     "text": [
      "['NOAA_ID1_20240722145919.csv', 'NOAA_ID2_20240722145924.csv', 'NOAA_ID3_20240722145931.csv', 'NOAA_ID4_20240722145937.csv', 'NOAA_ID5_20240722145939.csv', 'NOAA_ID6_20240722145940.csv', 'NOAA_ID7_20240722145942.csv', 'NOAA_ID8_20240722145943.csv', 'NOAA_ID9_20240722145944.csv', 'NOAA_ID10_20240722145945.csv', 'NOAA_ID11_20240722145952.csv', 'NOAA_ID12_20240722145953.csv', 'NOAA_ID13_20240722145954.csv', 'NOAA_ID14_20240722145955.csv', 'NOAA_ID15_20240722145957.csv', 'NOAA_ID16_20240722145959.csv', 'NOAA_ID17_20240722150001.csv', 'NOAA_ID18_20240722150004.csv', 'NOAA_ID19_20240722150030.csv', 'NOAA_ID20_20240722150033.csv', 'NOAA_ID21_20240722150035.csv', 'NOAA_ID22_20240722150052.csv', 'NOAA_ID23_20240722150101.csv', 'NOAA_ID24_20240722150105.csv', 'NOAA_ID25_20240722150106.csv', 'NOAA_ID26_20240722150107.csv', 'NOAA_ID27_20240722150109.csv']\n"
     ]
    }
   ],
   "source": [
    "directory = 'raw'\n",
    "final_list = []\n",
    "for i in range(1,28):\n",
    "    new_list = [x for x in os.listdir(directory) if x.split('_')[1] == f'ID{i}']\n",
    "    latest_file = sorted(new_list, key=lambda x: int(x.split('_')[2][:-4]))[-1]\n",
    "    final_list.append(latest_file)\n",
    "\n",
    "\n",
    "\n",
    "\n",
    "print(final_list)\n",
    "headers = ['Year', 'Week', 'SMN', 'SMT', 'VCI', 'TCI', 'VHI', 'Area']\n",
    "\n",
    "\n",
    "index_changer = {\n",
    "    1:\"Cherkasy\", 2:\"Chernihiv\", 3:\"Chernivtsi\", 4:\"Crimea\", 5:\"Dnipropetrovs'k\",\n",
    "    6:\"Donets'k\", 7:\"Ivano-Frankivs'k\", 8:\"Kharkiv\", 9:\"Kherson\", 10:\"Khmel'nyts'kyy\",\n",
    "    11:\"Kiev\", 12:\"Kiev City\", 13:\"Kirovohrad\", 14:\"Luhans'k\", 15:\"L'viv\",\n",
    "    16:\"Mykolayiv\", 17:\"Odessa\", 18:\"Poltava\", 19:\"Rivne\", 20:\"Sevastopol'\",\n",
    "    21:\"Sumy\", 22:\"Ternopil'\", 23:\"Transcarpathia\", 24:\"Vinnytsya\", 25:\"Volyn\",\n",
    "    26:\"Zaporizhzhya\", 27:\"Zhytomyr\",\n",
    "}"
   ]
  },
  {
   "cell_type": "code",
   "execution_count": 8,
   "id": "9e1612bd-7b0f-4033-be59-2110505c510e",
   "metadata": {},
   "outputs": [
    {
     "name": "stdout",
     "output_type": "stream",
     "text": [
      "       Year  Week    SMN     SMT    VCI    TCI    VHI      Area\n",
      "0      1982   1.0  0.053  260.31  45.01  39.46  42.23  Cherkasy\n",
      "1      1982   2.0  0.054  262.29  46.83  31.75  39.29  Cherkasy\n",
      "2      1982   3.0  0.055  263.82  48.13  27.24  37.68  Cherkasy\n",
      "3      1982   4.0  0.053  265.33  46.09  23.91  35.00  Cherkasy\n",
      "4      1982   5.0  0.050  265.66  41.46  26.65  34.06  Cherkasy\n",
      "...     ...   ...    ...     ...    ...    ...    ...       ...\n",
      "58288  2024  21.0  0.430  293.95  66.41  40.99  53.72  Zhytomyr\n",
      "58289  2024  22.0  0.437  293.75  60.54  46.59  53.58  Zhytomyr\n",
      "58290  2024  23.0  0.441  293.59  56.03  50.99  53.52  Zhytomyr\n",
      "58291  2024  24.0  0.440  293.21  50.77  57.17  53.97  Zhytomyr\n",
      "58292  2024  25.0  0.450  293.61  53.57  56.55  55.06  Zhytomyr\n",
      "\n",
      "[58293 rows x 8 columns]\n"
     ]
    }
   ],
   "source": [
    "i = 1\n",
    "uncombined_df = []\n",
    "for file in final_list:\n",
    "    file_path = os.path.join(directory, file)\n",
    "    dataframe = pd.read_csv(file_path, header = 1, names = headers)\n",
    "    dataframe.drop(dataframe.index[-1], inplace=True)\n",
    "    dataframe.iloc[0, 0] = dataframe.iloc[0, 0].replace('<tt><pre>', '')\n",
    "    dataframe['Area'] = i\n",
    "    i += 1\n",
    "\n",
    "    dataframe = dataframe.drop(dataframe.loc[dataframe['VHI'] == -1].index)\n",
    "    dataframe['Area'] = dataframe['Area'].replace({index: area for index, area in index_changer.items()})\n",
    "\n",
    "    uncombined_df.append(dataframe)\n",
    "\n",
    "df = pd.concat(uncombined_df, ignore_index=True)\n",
    "print(df)\n",
    "\n",
    "df.to_csv('df.csv', index=True, encoding='utf-8')"
   ]
  }
 ],
 "metadata": {
  "kernelspec": {
   "display_name": "Python 3 (ipykernel)",
   "language": "python",
   "name": "python3"
  },
  "language_info": {
   "codemirror_mode": {
    "name": "ipython",
    "version": 3
   },
   "file_extension": ".py",
   "mimetype": "text/x-python",
   "name": "python",
   "nbconvert_exporter": "python",
   "pygments_lexer": "ipython3",
   "version": "3.11.5"
  }
 },
 "nbformat": 4,
 "nbformat_minor": 5
}
